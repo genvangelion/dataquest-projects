{
 "cells": [
  {
   "cell_type": "markdown",
   "metadata": {},
   "source": [
    "# Profitable App Profiles for the App Store and Google Play Markets\n",
    "In this project, we will analyze data collected from app usage to help our company's developers understand what type of apps are likely to attract more users. Our company only builds apps that are free to download; consequently, our main source of revenue is through in-app ads that is direclty influenced by the amount of users using the app and viewing and engaging with ads.\n",
    "\n",
    "The goal of this project is to provide actionable insight that will attract more users to our apps and ultimately boost advertisement revenue."
   ]
  },
  {
   "cell_type": "markdown",
   "metadata": {},
   "source": [
    "## Opening and Exploring App Data\n",
    "There are about 4 million apps between the Apple and Android app stores which would require a significant amount of resources to extract and clean. In this project we will conduct analysis on an existing dataset of a smaller sample size to save time and money.\n",
    "- For the Apple App Store, we will use a dataset containing data of ~7,000 iOS apps, colleted in July 2017. The dataset can be found [here](https://dq-content.s3.amazonaws.com/350/AppleStore.csv).\n",
    "- For the Google Play Store, we will use a dataset containing data of ~10,000 Android apps, collected in August 2018. The dataset can be found [here](https://dq-content.s3.amazonaws.com/350/googleplaystore.csv)\n",
    "\n",
    "We'll start our analyzation process by opening, reading, and converting the datasets into a list of lists. "
   ]
  },
  {
   "cell_type": "code",
   "execution_count": 2,
   "metadata": {
    "scrolled": true
   },
   "outputs": [],
   "source": [
    "from csv import reader\n",
    "\n",
    "# helper functions \n",
    "def open_dataset(filepath):\n",
    "    of = open(filepath)\n",
    "    rf = reader(of)\n",
    "    return list(rf)\n",
    "\n",
    "def explore_data(ds, start, end, rowCol=False):\n",
    "    dsSlice = ds[start:end]\n",
    "    for row in dsSlice:\n",
    "        print(row,'\\n')\n",
    "    if rowCol:\n",
    "        print('Number of rows:', len(ds))\n",
    "        print('Number of columns:', len(ds[0]))\n",
    "\n",
    "# open datasets with open_dataset helper function\n",
    "appStore = open_dataset('AppleStore.csv')\n",
    "playStore = open_dataset('googleplaystore.csv')\n",
    "\n",
    "# separate headers from datasets\n",
    "appStore_header = appStore[0]\n",
    "appStore = appStore[1:]\n",
    "playStore_header = playStore[0]\n",
    "playStore = playStore[1:]"
   ]
  },
  {
   "cell_type": "markdown",
   "metadata": {},
   "source": [
    "Let's explore the Play Store and App Store datasets by previewing the first three entries:"
   ]
  },
  {
   "cell_type": "code",
   "execution_count": 3,
   "metadata": {},
   "outputs": [
    {
     "name": "stdout",
     "output_type": "stream",
     "text": [
      "App Store Data Preview:\n",
      "\n",
      "['389801252', 'Instagram', '113954816', 'USD', '0.0', '2161558', '1289', '4.5', '4.0', '10.23', '12+', 'Photo & Video', '37', '0', '29', '1'] \n",
      "\n",
      "['529479190', 'Clash of Clans', '116476928', 'USD', '0.0', '2130805', '579', '4.5', '4.5', '9.24.12', '9+', 'Games', '38', '5', '18', '1'] \n",
      "\n",
      "['420009108', 'Temple Run', '65921024', 'USD', '0.0', '1724546', '3842', '4.5', '4.0', '1.6.2', '9+', 'Games', '40', '5', '1', '1'] \n",
      "\n",
      "Number of rows: 7197\n",
      "Number of columns: 16\n",
      "\n",
      "Play Store Data Preview:\n",
      "\n",
      "['Coloring book moana', 'ART_AND_DESIGN', '3.9', '967', '14M', '500,000+', 'Free', '0', 'Everyone', 'Art & Design;Pretend Play', 'January 15, 2018', '2.0.0', '4.0.3 and up'] \n",
      "\n",
      "['U Launcher Lite – FREE Live Cool Themes, Hide Apps', 'ART_AND_DESIGN', '4.7', '87510', '8.7M', '5,000,000+', 'Free', '0', 'Everyone', 'Art & Design', 'August 1, 2018', '1.2.4', '4.0.3 and up'] \n",
      "\n",
      "['Sketch - Draw & Paint', 'ART_AND_DESIGN', '4.5', '215644', '25M', '50,000,000+', 'Free', '0', 'Teen', 'Art & Design', 'June 8, 2018', 'Varies with device', '4.2 and up'] \n",
      "\n",
      "Number of rows: 10841\n",
      "Number of columns: 13\n"
     ]
    }
   ],
   "source": [
    "# explore and print datasets with explore_data helper function\n",
    "print('App Store Data Preview:\\n')\n",
    "explore_data(appStore, 1, 4, True)\n",
    "print('\\nPlay Store Data Preview:\\n')\n",
    "explore_data(playStore, 1, 4, True)"
   ]
  },
  {
   "cell_type": "markdown",
   "metadata": {},
   "source": [
    "In our App Store dataset, we have data from 7,197 apps reflected in the number of rows; in our Play Store dataset, we have 10,841 apps."
   ]
  },
  {
   "cell_type": "markdown",
   "metadata": {},
   "source": [
    "To make sense of the elements in each list, let's print the dataset's columns. The column titles are identified in the first list in the each list of lists.\n",
    "\n",
    "For a more elaborate description of the column names, the datasets' documentations can be found below:\n",
    "\n",
    "- [App Store Dataset Documentation](https://www.kaggle.com/ramamet4/app-store-apple-data-set-10k-apps)\n",
    "- [Play Store Dataset Documentation](https://www.kaggle.com/lava18/google-play-store-apps)\n",
    "\n"
   ]
  },
  {
   "cell_type": "code",
   "execution_count": 4,
   "metadata": {
    "scrolled": false
   },
   "outputs": [
    {
     "name": "stdout",
     "output_type": "stream",
     "text": [
      "App Store Column Titles:\n",
      " ['id', 'track_name', 'size_bytes', 'currency', 'price', 'rating_count_tot', 'rating_count_ver', 'user_rating', 'user_rating_ver', 'ver', 'cont_rating', 'prime_genre', 'sup_devices.num', 'ipadSc_urls.num', 'lang.num', 'vpp_lic']\n",
      "\n",
      "\n",
      "Play Store Column Titles:\n",
      " ['App', 'Category', 'Rating', 'Reviews', 'Size', 'Installs', 'Type', 'Price', 'Content Rating', 'Genres', 'Last Updated', 'Current Ver', 'Android Ver']\n"
     ]
    }
   ],
   "source": [
    "# print column titles\n",
    "print('App Store Column Titles:\\n', appStore_header)\n",
    "print('\\n')\n",
    "print('Play Store Column Titles:\\n', playStore_header)"
   ]
  },
  {
   "cell_type": "markdown",
   "metadata": {},
   "source": [
    "Now that we have the column titles, let's identify which attributes (columns) would be useful in our analysis and work with those. In the context of providing insight into boosting app downloads and advertisement engagement/revenue, the relevant attributes for the App Store dataset are: \n",
    "\n",
    "    'track_name', 'price', 'rating_count_tot', 'user_rating', 'cont_rating', 'prime_genre'\n",
    "    \n",
    "Relevant attributes for the Play Store dataset are:\n",
    "\n",
    "    'App', 'Category', 'Rating', 'Reviews', 'Installs', 'Type', 'Price', 'Content Rating', 'Genres'"
   ]
  },
  {
   "cell_type": "markdown",
   "metadata": {},
   "source": [
    "## Data Cleaning\n",
    "Before we can begin analyzing our data, we have to validate or \"clean\" it. The preparatory data cleaning process includes:\n",
    "\n",
    "- Detecting inaccurate data, then correcting or omitting it\n",
    "- Detecting duplicate data, then removing the duplicates\n",
    "\n",
    "At our company, we develop apps that are **free** with an **English-speaking** audience. Therefore we need to remove:\n",
    "\n",
    "- Non-english apps that can be identified with foreign characters like 爱奇艺PPS 《欢乐颂2》电视剧热播.\n",
    "- Paid apps\n",
    "\n",
    "Let's begin the data cleaning process by detecting and deleting inaccurate/unfit data (non-english and paid apps).\n",
    "\n",
    "The Google Play dataset we are using has a \"wrong entry\" in row 10472, as identified in the [discussion section](https://www.kaggle.com/lava18/google-play-store-apps/discussion) of the source website. Let's print the problem row and compare it with the column titles and a correct row to diagnose the problem."
   ]
  },
  {
   "cell_type": "code",
   "execution_count": 5,
   "metadata": {},
   "outputs": [
    {
     "name": "stdout",
     "output_type": "stream",
     "text": [
      "Column Titles:\n",
      " ['App', 'Category', 'Rating', 'Reviews', 'Size', 'Installs', 'Type', 'Price', 'Content Rating', 'Genres', 'Last Updated', 'Current Ver', 'Android Ver'] \n",
      "\n",
      "Valid entry:\n",
      " ['Photo Editor & Candy Camera & Grid & ScrapBook', 'ART_AND_DESIGN', '4.1', '159', '19M', '10,000+', 'Free', '0', 'Everyone', 'Art & Design', 'January 7, 2018', '1.0.0', '4.0.3 and up'] \n",
      "\n",
      "Problem entry:\n",
      " ['Life Made WI-Fi Touchscreen Photo Frame', '1.9', '19', '3.0M', '1,000+', 'Free', '0', 'Everyone', '', 'February 11, 2018', '1.0.19', '4.0 and up'] \n",
      "\n"
     ]
    }
   ],
   "source": [
    "# diagnose problem row\n",
    "print('Column Titles:\\n', playStore_header, '\\n')\n",
    "print('Valid entry:\\n', playStore[0], '\\n')\n",
    "print('Problem entry:\\n', playStore[10472], '\\n')"
   ]
  },
  {
   "cell_type": "markdown",
   "metadata": {},
   "source": [
    "Comparing the problem entry and a valid entry, we can see that the problem entry is missing the `'Category'` attribute, causing the list to be a different size and ultimately shifting the shape of the dataset. \n",
    "\n",
    "We can make this clearer by printing the item at index 1 (which corresponds to the `'Category'` attribute) and printing the length of the two entries."
   ]
  },
  {
   "cell_type": "code",
   "execution_count": 6,
   "metadata": {
    "scrolled": false
   },
   "outputs": [
    {
     "name": "stdout",
     "output_type": "stream",
     "text": [
      "Valid entry element at index 1: ART_AND_DESIGN\n",
      "Problem entry element at index 1: 1.9 \n",
      "\n",
      "Number of columns: 13\n",
      "Valid entry length: 13\n",
      "Problem entry length: 12\n"
     ]
    }
   ],
   "source": [
    "# compare the items at index 1 and the lengths of the entries\n",
    "print('Valid entry element at index 1:', playStore[0][1])\n",
    "print('Problem entry element at index 1:', playStore[10472][1],'\\n')\n",
    "\n",
    "print('Number of columns:', len(playStore_header))\n",
    "print('Valid entry length:', len(playStore[0]))\n",
    "print('Problem entry length:', len(playStore[10472]))"
   ]
  },
  {
   "cell_type": "markdown",
   "metadata": {},
   "source": [
    "We can see that the valid entry's category at index 1 is \"ART_AND_DESIGN\" while the problem entry's category is \"1.9\"- the value meant for the next `'Ratings'` column. Furthermore, the problem entry has only 12 items when there are supposed to be 13 items or attributes as defined by the columns.\n",
    "\n",
    "Let's remove this entry as we can't perform analysis on it without the necessary category attribute."
   ]
  },
  {
   "cell_type": "code",
   "execution_count": 7,
   "metadata": {
    "scrolled": true
   },
   "outputs": [],
   "source": [
    "# delete the problem entry\n",
    "# only run this code once as it will modify the original dataset!\n",
    "del playStore[10472] "
   ]
  },
  {
   "cell_type": "markdown",
   "metadata": {},
   "source": [
    "Let's print the item at index 10472 to verify that the problem entry has been removed."
   ]
  },
  {
   "cell_type": "code",
   "execution_count": 8,
   "metadata": {
    "scrolled": false
   },
   "outputs": [
    {
     "name": "stdout",
     "output_type": "stream",
     "text": [
      "['osmino Wi-Fi: free WiFi', 'TOOLS', '4.2', '134203', '4.1M', '10,000,000+', 'Free', '0', 'Everyone', 'Tools', 'August 7, 2018', '6.06.14', '4.4 and up']\n"
     ]
    }
   ],
   "source": [
    "# print the item at index 10472\n",
    "print(playStore[10472])"
   ]
  },
  {
   "cell_type": "markdown",
   "metadata": {},
   "source": [
    "Good. Let's repeat this process with the App Store dataset by searching the [discussion section](https://www.kaggle.com/ramamet4/app-store-apple-data-set-10k-apps/discussion) for reports of problem entries.\n",
    "\n",
    "There doesn't seem to be any according to the discussion section. Sweet!"
   ]
  },
  {
   "cell_type": "markdown",
   "metadata": {},
   "source": [
    "## Removing Duplicate Entries\n",
    "After removing wonky data, let's move onto removing duplicate entries. If you explore the Play Store dataset enough, you'll encounter duplicates. For example, Instagram appears four times in the Play Store dataset:"
   ]
  },
  {
   "cell_type": "code",
   "execution_count": 9,
   "metadata": {},
   "outputs": [
    {
     "name": "stdout",
     "output_type": "stream",
     "text": [
      "Row items with name \"Instagram\" in Play Store dataset:\n",
      "['Instagram', 'SOCIAL', '4.5', '66577313', 'Varies with device', '1,000,000,000+', 'Free', '0', 'Teen', 'Social', 'July 31, 2018', 'Varies with device', 'Varies with device']\n",
      "['Instagram', 'SOCIAL', '4.5', '66577446', 'Varies with device', '1,000,000,000+', 'Free', '0', 'Teen', 'Social', 'July 31, 2018', 'Varies with device', 'Varies with device']\n",
      "['Instagram', 'SOCIAL', '4.5', '66577313', 'Varies with device', '1,000,000,000+', 'Free', '0', 'Teen', 'Social', 'July 31, 2018', 'Varies with device', 'Varies with device']\n",
      "['Instagram', 'SOCIAL', '4.5', '66509917', 'Varies with device', '1,000,000,000+', 'Free', '0', 'Teen', 'Social', 'July 31, 2018', 'Varies with device', 'Varies with device']\n"
     ]
    }
   ],
   "source": [
    "# print Instagram row items\n",
    "print('Row items with name \"Instagram\" in Play Store dataset:')\n",
    "for row in playStore:\n",
    "    name = row[0]\n",
    "    if name == 'Instagram':\n",
    "        print(row)"
   ]
  },
  {
   "cell_type": "markdown",
   "metadata": {},
   "source": [
    "In total, there are 1,181 duplicate apps:"
   ]
  },
  {
   "cell_type": "code",
   "execution_count": 10,
   "metadata": {
    "scrolled": true
   },
   "outputs": [
    {
     "name": "stdout",
     "output_type": "stream",
     "text": [
      "Number of duplicate apps: 1181 \n",
      "\n",
      "Some duplicate apps: ['Quick PDF Scanner + OCR FREE', 'Box', 'Google My Business', 'ZOOM Cloud Meetings', 'join.me - Simple Meetings', 'Box', 'Zenefits', 'Google Ads', 'Google My Business', 'Slack']\n"
     ]
    }
   ],
   "source": [
    "# count duplicate apps\n",
    "unique_apps = []\n",
    "duplicate_apps = []\n",
    "\n",
    "for row in playStore:\n",
    "    name = row[0]\n",
    "    if name in unique_apps:\n",
    "        duplicate_apps.append(name)\n",
    "    else:\n",
    "        unique_apps.append(name)\n",
    "        \n",
    "print('Number of duplicate apps:', len(duplicate_apps),'\\n')\n",
    "print('Some duplicate apps:', duplicate_apps[:10])"
   ]
  },
  {
   "cell_type": "markdown",
   "metadata": {},
   "source": [
    "Now that we know how to find the duplicates, our problem is deciding which entry to keep and which entries to delete- we must develop a criteria in the context of our goal to best choose which entry to keep.\n",
    "\n",
    "If you take another look at the four 'Instagram' entries we printed above, you'll notice that they each have different numbers of reviews:"
   ]
  },
  {
   "cell_type": "code",
   "execution_count": 11,
   "metadata": {},
   "outputs": [
    {
     "name": "stdout",
     "output_type": "stream",
     "text": [
      "'Reviews' attribute of row items with name 'Instagram':\n",
      "Reviews:  66577313\n",
      "Reviews:  66577446\n",
      "Reviews:  66577313\n",
      "Reviews:  66509917\n"
     ]
    }
   ],
   "source": [
    "# print reviews attribute of 'Instagram' row items\n",
    "print(\"'Reviews' attribute of row items with name 'Instagram':\")\n",
    "for row in playStore:\n",
    "    name = row[0]\n",
    "    if name == 'Instagram':\n",
    "        print('Reviews: ', row[3])"
   ]
  },
  {
   "cell_type": "markdown",
   "metadata": {},
   "source": [
    "In the context of our analysis, we likely want the most recent data as possible to extrapolate our findings onto our company's apps. The entry with the most amount of reviews indicates that it is the more recent 'Instagram' entry and is the one we should keep. In the output above, the 2nd item has the most reviews at 66,577,446."
   ]
  },
  {
   "cell_type": "code",
   "execution_count": 12,
   "metadata": {},
   "outputs": [],
   "source": [
    "# store each unique app entry with the most amount of reviews\n",
    "reviews_max = {}\n",
    "\n",
    "for row in playStore:\n",
    "    name = row[0]\n",
    "    n_reviews = float(row[3])\n",
    "    if (name in reviews_max) and (n_reviews > reviews_max[name]):\n",
    "        reviews_max[name] = n_reviews\n",
    "    if name not in reviews_max:\n",
    "        reviews_max[name] = n_reviews"
   ]
  },
  {
   "cell_type": "markdown",
   "metadata": {},
   "source": [
    "Let's inspect the dictionary and verify the amount of unique items is correct by comparing it to the length of the unique_apps list we used earlier."
   ]
  },
  {
   "cell_type": "code",
   "execution_count": 13,
   "metadata": {
    "scrolled": true
   },
   "outputs": [
    {
     "name": "stdout",
     "output_type": "stream",
     "text": [
      "Length of reviews_max dictionary: 9659\n",
      "Length of unique_apps list: 9659\n"
     ]
    }
   ],
   "source": [
    "# verify the dictionary is the right size\n",
    "print('Length of reviews_max dictionary:', len(reviews_max))\n",
    "print('Length of unique_apps list:', len(unique_apps))"
   ]
  },
  {
   "cell_type": "markdown",
   "metadata": {},
   "source": [
    "Using the dictionary above, we can now start removing duplicate entries and create a \"clean\" dataset for the Play Store apps. We'll do this by creating a new list, playStore_clean, for the new data and a list to store app names. Each entry in the playStore dataset will be validated against these two lists to append each unique, highest-number reviews app to the playStore_clean dataset."
   ]
  },
  {
   "cell_type": "code",
   "execution_count": 14,
   "metadata": {},
   "outputs": [],
   "source": [
    "playStore_clean = []\n",
    "already_added = []\n",
    "\n",
    "for row in playStore:\n",
    "    name = row[0]\n",
    "    n_reviews = float(row[3])\n",
    "    if (n_reviews == reviews_max[name]) and (name not in already_added):\n",
    "        playStore_clean.append(row)\n",
    "        already_added.append(name)"
   ]
  },
  {
   "cell_type": "markdown",
   "metadata": {},
   "source": [
    "Let's explore the clean dataset we created using the explore_data helper function:"
   ]
  },
  {
   "cell_type": "code",
   "execution_count": 15,
   "metadata": {
    "scrolled": true
   },
   "outputs": [
    {
     "name": "stdout",
     "output_type": "stream",
     "text": [
      "Preview of playStore_clean dataset:\n",
      "\n",
      "['Photo Editor & Candy Camera & Grid & ScrapBook', 'ART_AND_DESIGN', '4.1', '159', '19M', '10,000+', 'Free', '0', 'Everyone', 'Art & Design', 'January 7, 2018', '1.0.0', '4.0.3 and up'] \n",
      "\n",
      "['U Launcher Lite – FREE Live Cool Themes, Hide Apps', 'ART_AND_DESIGN', '4.7', '87510', '8.7M', '5,000,000+', 'Free', '0', 'Everyone', 'Art & Design', 'August 1, 2018', '1.2.4', '4.0.3 and up'] \n",
      "\n",
      "['Sketch - Draw & Paint', 'ART_AND_DESIGN', '4.5', '215644', '25M', '50,000,000+', 'Free', '0', 'Teen', 'Art & Design', 'June 8, 2018', 'Varies with device', '4.2 and up'] \n",
      "\n",
      "Number of rows: 9659\n",
      "Number of columns: 13\n"
     ]
    }
   ],
   "source": [
    "print('Preview of playStore_clean dataset:\\n')\n",
    "explore_data(playStore_clean, 0, 3, True)"
   ]
  },
  {
   "cell_type": "markdown",
   "metadata": {},
   "source": [
    "We have now successfully created a clean Play Store dataset under playStore_clean that includes only unique, properly formatted row items. Fortunately, the Appstore dataset doesn't have any duplicates and its items are formatted properly.\n",
    "\n",
    "Next, we'll begin removing apps that do not have an English-speaking audience-- namely apps with foreign characters in the app title-- as our company develops apps in English. Here's an example of a foreign app title in the App Store and Playstore datasets:"
   ]
  },
  {
   "cell_type": "code",
   "execution_count": 16,
   "metadata": {},
   "outputs": [
    {
     "name": "stdout",
     "output_type": "stream",
     "text": [
      "Play Store foreign app at index 4412:\n",
      " 中国語 AQリスニング \n",
      "\n",
      "App Store foreign app at index 813:\n",
      " 爱奇艺PPS -《欢乐颂2》电视剧热播\n"
     ]
    }
   ],
   "source": [
    "print('Play Store foreign app at index 4412:\\n', playStore_clean[4412][0],'\\n')\n",
    "print('App Store foreign app at index 813:\\n', appStore[813][1])"
   ]
  },
  {
   "cell_type": "markdown",
   "metadata": {},
   "source": [
    "The best way we can identify foreign characters in app names is by checking the Unicode value of each character. The ord() function returns the unicode value of a text character. Let's test the function."
   ]
  },
  {
   "cell_type": "code",
   "execution_count": 17,
   "metadata": {
    "scrolled": true
   },
   "outputs": [
    {
     "name": "stdout",
     "output_type": "stream",
     "text": [
      "\"a\" unicode: 97\n",
      "A\" unicode: 65\n",
      "\"爱\" unicode: 29233\n",
      "\"5\" unicode: 53\n",
      "\"+\" unicode: 43\n"
     ]
    }
   ],
   "source": [
    "print('\"a\" unicode:', ord('a'))\n",
    "print('A\" unicode:', ord('A'))\n",
    "print('\"爱\" unicode:', ord('爱'))\n",
    "print('\"5\" unicode:', ord('5'))\n",
    "print('\"+\" unicode:', ord('+'))"
   ]
  },
  {
   "cell_type": "markdown",
   "metadata": {},
   "source": [
    "Notice the foreign character '爱' has a unicode of 29,233 while alphabet and numeric characters are < 1000. Characters commonly used in English text are all within the range 0-127 in the ASCII system- any character returning a number outside this range with the ord() function can be considered a foreign character.\n",
    "\n",
    "Let's write a function that will check if a string has any non-English characters then test it on some app names:"
   ]
  },
  {
   "cell_type": "code",
   "execution_count": 18,
   "metadata": {},
   "outputs": [
    {
     "name": "stdout",
     "output_type": "stream",
     "text": [
      "'Instagram' is English\n",
      "'爱奇艺PPS -《欢乐颂2》电视剧热播' is not English\n",
      "'Docs To Go™ Free Office Suite' is not English\n",
      "'Instachat 😜' is not English\n"
     ]
    }
   ],
   "source": [
    "def is_english(string):\n",
    "    retVal = True\n",
    "    for char in string:\n",
    "        if ord(char) > 127: \n",
    "            retVal = False\n",
    "    return retVal\n",
    "\n",
    "sample_app_names = ['Instagram', '爱奇艺PPS -《欢乐颂2》电视剧热播', 'Docs To Go™ Free Office Suite', 'Instachat 😜']\n",
    "\n",
    "for app in sample_app_names:\n",
    "    if is_english(app):\n",
    "        temp = \"'{0}' is English\".format(app)\n",
    "        print(temp)\n",
    "    else:\n",
    "        temp = \"'{0}' is not English\".format(app)\n",
    "        print(temp)"
   ]
  },
  {
   "cell_type": "markdown",
   "metadata": {},
   "source": [
    "Another problem arises as English app titles with special characters such as '™' and '😜' are outside the English character range- we don't want to omit these as they are still English apps. It is difficult to account for every special ASCII character so we'll change the criteria a little.\n",
    "\n",
    "Let's rewrite the function to consider an app with **3** or more characters outside the ASCII range of 0-127."
   ]
  },
  {
   "cell_type": "code",
   "execution_count": 19,
   "metadata": {},
   "outputs": [
    {
     "name": "stdout",
     "output_type": "stream",
     "text": [
      "'Instagram' is English\n",
      "'爱奇艺PPS -《欢乐颂2》电视剧热播' is not English\n",
      "'Docs To Go™ Free Office Suite' is English\n",
      "'Instachat 😜' is English\n"
     ]
    }
   ],
   "source": [
    "def is_english(string):\n",
    "    foreignCount = 0\n",
    "    for char in string:\n",
    "        if ord(char) > 127: \n",
    "            foreignCount += 1\n",
    "    return False if foreignCount >= 3 else True\n",
    "\n",
    "for app in sample_app_names:\n",
    "    if is_english(app):\n",
    "        temp = \"'{0}' is English\".format(app)\n",
    "        print(temp)\n",
    "    else:\n",
    "        temp = \"'{0}' is not English\".format(app)\n",
    "        print(temp)"
   ]
  },
  {
   "cell_type": "markdown",
   "metadata": {},
   "source": [
    "Nice. Now all but the app name with mostly foreign characters are considered English apps.\n",
    "\n",
    "Let's expand this function onto our playStore and appStore datasets."
   ]
  },
  {
   "cell_type": "code",
   "execution_count": 20,
   "metadata": {},
   "outputs": [
    {
     "name": "stdout",
     "output_type": "stream",
     "text": [
      "eng_playStore_apps preview:\n",
      "\n",
      "['Photo Editor & Candy Camera & Grid & ScrapBook', 'ART_AND_DESIGN', '4.1', '159', '19M', '10,000+', 'Free', '0', 'Everyone', 'Art & Design', 'January 7, 2018', '1.0.0', '4.0.3 and up'] \n",
      "\n",
      "['U Launcher Lite – FREE Live Cool Themes, Hide Apps', 'ART_AND_DESIGN', '4.7', '87510', '8.7M', '5,000,000+', 'Free', '0', 'Everyone', 'Art & Design', 'August 1, 2018', '1.2.4', '4.0.3 and up'] \n",
      "\n",
      "['Sketch - Draw & Paint', 'ART_AND_DESIGN', '4.5', '215644', '25M', '50,000,000+', 'Free', '0', 'Teen', 'Art & Design', 'June 8, 2018', 'Varies with device', '4.2 and up'] \n",
      "\n",
      "Number of rows: 9597\n",
      "Number of columns: 13\n",
      "\n",
      "eng_appStore_apps preview:\n",
      "\n",
      "['284882215', 'Facebook', '389879808', 'USD', '0.0', '2974676', '212', '3.5', '3.5', '95.0', '4+', 'Social Networking', '37', '1', '29', '1'] \n",
      "\n",
      "['389801252', 'Instagram', '113954816', 'USD', '0.0', '2161558', '1289', '4.5', '4.0', '10.23', '12+', 'Photo & Video', '37', '0', '29', '1'] \n",
      "\n",
      "['529479190', 'Clash of Clans', '116476928', 'USD', '0.0', '2130805', '579', '4.5', '4.5', '9.24.12', '9+', 'Games', '38', '5', '18', '1'] \n",
      "\n",
      "Number of rows: 6155\n",
      "Number of columns: 16\n"
     ]
    }
   ],
   "source": [
    "eng_playStore_apps = []\n",
    "eng_appStore_apps = []\n",
    "\n",
    "for row in playStore_clean:\n",
    "    name = row[0]\n",
    "    if is_english(name):\n",
    "        eng_playStore_apps.append(row)\n",
    "\n",
    "for row in appStore:\n",
    "    name = row[1]\n",
    "    if is_english(name):\n",
    "        eng_appStore_apps.append(row)\n",
    "\n",
    "print('eng_playStore_apps preview:\\n')\n",
    "explore_data(eng_playStore_apps, 0, 3, True)\n",
    "print('\\neng_appStore_apps preview:\\n')\n",
    "explore_data(eng_appStore_apps, 0, 3, True)"
   ]
  },
  {
   "cell_type": "markdown",
   "metadata": {},
   "source": [
    "Row items in each dataset before and after filtering non-english apps:"
   ]
  },
  {
   "cell_type": "code",
   "execution_count": 21,
   "metadata": {
    "scrolled": true
   },
   "outputs": [
    {
     "name": "stdout",
     "output_type": "stream",
     "text": [
      "playStore_clean dataset length: 9659\n",
      "eng_playStore_apps dataset length: 9597\n",
      "Non-english apps omitted: 62 \n",
      "\n",
      "appStore dataset length: 7197\n",
      "eng_appStore_apps dataset length: 6155\n",
      "Non-english apps omitted: 1042 \n",
      "\n"
     ]
    }
   ],
   "source": [
    "print('playStore_clean dataset length:', len(playStore_clean))\n",
    "print('eng_playStore_apps dataset length:', len(eng_playStore_apps))\n",
    "print('Non-english apps omitted:', len(playStore_clean) - len(eng_playStore_apps),'\\n')\n",
    "print('appStore dataset length:', len(appStore))\n",
    "print('eng_appStore_apps dataset length:', len(eng_appStore_apps))\n",
    "print('Non-english apps omitted:', len(appStore) - len(eng_appStore_apps),'\\n')"
   ]
  },
  {
   "cell_type": "markdown",
   "metadata": {},
   "source": [
    "So far we've:\n",
    "- Removed wrong entries (entries missing value(s) for attributes)\n",
    "- Removed duplicate entries and kept originals based on a relevant criteria\n",
    "- Filtered non-English apps\n",
    "\n",
    "Our last step in the data cleaning process will be filtering paid apps and isolating the free ones. We'll filter non-free apps in a similar fashion- note that prices are represented as strings by default! Let's refresh our memory with the column titles for each dataset and sample entries:"
   ]
  },
  {
   "cell_type": "code",
   "execution_count": 22,
   "metadata": {
    "scrolled": true
   },
   "outputs": [
    {
     "name": "stdout",
     "output_type": "stream",
     "text": [
      "Play Store Column titles:\n",
      " ['App', 'Category', 'Rating', 'Reviews', 'Size', 'Installs', 'Type', 'Price', 'Content Rating', 'Genres', 'Last Updated', 'Current Ver', 'Android Ver']\n",
      "Sample eng_playStore_apps entry:\n",
      " ['Pixel Draw - Number Art Coloring Book', 'ART_AND_DESIGN', '4.3', '967', '2.8M', '100,000+', 'Free', '0', 'Everyone', 'Art & Design;Creativity', 'June 20, 2018', '1.1', '4.4 and up'] \n",
      "\n",
      "Appstore Column titles:\n",
      " ['id', 'track_name', 'size_bytes', 'currency', 'price', 'rating_count_tot', 'rating_count_ver', 'user_rating', 'user_rating_ver', 'ver', 'cont_rating', 'prime_genre', 'sup_devices.num', 'ipadSc_urls.num', 'lang.num', 'vpp_lic']\n",
      "Sample eng_appStore_apps entry:\n",
      " ['284882215', 'Facebook', '389879808', 'USD', '0.0', '2974676', '212', '3.5', '3.5', '95.0', '4+', 'Social Networking', '37', '1', '29', '1']\n"
     ]
    }
   ],
   "source": [
    "print('Play Store Column titles:\\n', playStore_header)\n",
    "print('Sample eng_playStore_apps entry:\\n', eng_playStore_apps[3],'\\n')\n",
    "print('Appstore Column titles:\\n', appStore_header)\n",
    "print('Sample eng_appStore_apps entry:\\n', eng_appStore_apps[0])"
   ]
  },
  {
   "cell_type": "markdown",
   "metadata": {},
   "source": [
    "Notice that the Play Store attribute for price is 'Type' at index 6; the corresponding value in the sample entry is 'Free'. In the Appstore, the attribute for price is 'price' at index 4; the corresponding value in the sample entry is '0.0' (Here is the documentation for the [Appstore](https://www.kaggle.com/ramamet4/app-store-apple-data-set-10k-apps) and [Play Store](https://www.kaggle.com/lava18/google-play-store-apps) datasets for a refresh on the column title descriptions).\n",
    "\n",
    "We can identify free Play Store apps with the string **'Free'** at index **6**. Likewise, we can identify free Appstore apps with the string **'0.0'** at index **4**. Let's loop through both datasets and isolate row items of free apps into a separate list."
   ]
  },
  {
   "cell_type": "code",
   "execution_count": 23,
   "metadata": {},
   "outputs": [
    {
     "name": "stdout",
     "output_type": "stream",
     "text": [
      "free_playStore preview:\n",
      "['Photo Editor & Candy Camera & Grid & ScrapBook', 'ART_AND_DESIGN', '4.1', '159', '19M', '10,000+', 'Free', '0', 'Everyone', 'Art & Design', 'January 7, 2018', '1.0.0', '4.0.3 and up'] \n",
      "\n",
      "['U Launcher Lite – FREE Live Cool Themes, Hide Apps', 'ART_AND_DESIGN', '4.7', '87510', '8.7M', '5,000,000+', 'Free', '0', 'Everyone', 'Art & Design', 'August 1, 2018', '1.2.4', '4.0.3 and up'] \n",
      "\n",
      "['Sketch - Draw & Paint', 'ART_AND_DESIGN', '4.5', '215644', '25M', '50,000,000+', 'Free', '0', 'Teen', 'Art & Design', 'June 8, 2018', 'Varies with device', '4.2 and up'] \n",
      "\n",
      "Number of rows: 8847\n",
      "Number of columns: 13\n",
      "\n",
      "\n",
      "free_appStore preview:\n",
      "['284882215', 'Facebook', '389879808', 'USD', '0.0', '2974676', '212', '3.5', '3.5', '95.0', '4+', 'Social Networking', '37', '1', '29', '1'] \n",
      "\n",
      "['389801252', 'Instagram', '113954816', 'USD', '0.0', '2161558', '1289', '4.5', '4.0', '10.23', '12+', 'Photo & Video', '37', '0', '29', '1'] \n",
      "\n",
      "['529479190', 'Clash of Clans', '116476928', 'USD', '0.0', '2130805', '579', '4.5', '4.5', '9.24.12', '9+', 'Games', '38', '5', '18', '1'] \n",
      "\n",
      "Number of rows: 3203\n",
      "Number of columns: 16\n"
     ]
    }
   ],
   "source": [
    "free_playStore = []\n",
    "free_appStore = []\n",
    "\n",
    "for row in eng_playStore_apps:\n",
    "    price = row[6]\n",
    "    if price == 'Free':\n",
    "        free_playStore.append(row)\n",
    "        \n",
    "for row in eng_appStore_apps:\n",
    "    price = float(row[4])\n",
    "    if price == 0:\n",
    "        free_appStore.append(row)\n",
    "\n",
    "print('free_playStore preview:')\n",
    "explore_data(free_playStore, 0, 3, True)\n",
    "print('\\n')\n",
    "print('free_appStore preview:')\n",
    "explore_data(free_appStore, 0, 3, True)"
   ]
  },
  {
   "cell_type": "markdown",
   "metadata": {},
   "source": [
    "Now we have finally finished the process of **data cleaning** where we:\n",
    "\n",
    "1. Removed inaccurate data\n",
    "2. Removed duplicate entries\n",
    "3. Removed non-English apps\n",
    "4. Filtered non-free apps\n",
    "\n",
    "## Data Analysis\n",
    "\n",
    "The goal of this analysis is to determine the characterstics of apps that are most likely to attract more users to ultimately generate more revenue through in-app ads. To minimize risks and overhead, the validation strategy for an app idea has three steps:\n",
    "\n",
    "1. Build and release a minimal Android version of the app onto the Google Play Store\n",
    "2. If the app is well-received by users, develop it further\n",
    "3. If the app is profitable after six months, implement an iOS version of the app and release in onto the Appstore.\n",
    "\n",
    "Our end goal is to develop successful apps that will be available on both the Google Play Store and the Appstore. Therefore, it will be valuable to analyze the most common genres for each market to maximize our userbase potential.\n",
    "\n",
    "Let's begin the analysis by building frequency tables for columns pertaining to genre for each dataset. First, we'll take a look at the column titles and identify relevant attributes."
   ]
  },
  {
   "cell_type": "code",
   "execution_count": 24,
   "metadata": {
    "scrolled": true
   },
   "outputs": [
    {
     "name": "stdout",
     "output_type": "stream",
     "text": [
      "Play Store column titles:\n",
      " ['App', 'Category', 'Rating', 'Reviews', 'Size', 'Installs', 'Type', 'Price', 'Content Rating', 'Genres', 'Last Updated', 'Current Ver', 'Android Ver'] \n",
      "\n",
      "Appstore column titles:\n",
      " ['id', 'track_name', 'size_bytes', 'currency', 'price', 'rating_count_tot', 'rating_count_ver', 'user_rating', 'user_rating_ver', 'ver', 'cont_rating', 'prime_genre', 'sup_devices.num', 'ipadSc_urls.num', 'lang.num', 'vpp_lic']\n"
     ]
    }
   ],
   "source": [
    "print('Play Store column titles:\\n', playStore_header,'\\n')\n",
    "print('Appstore column titles:\\n', appStore_header)"
   ]
  },
  {
   "cell_type": "markdown",
   "metadata": {},
   "source": [
    "Columns that will help us in the context of most common genres for the Play Store include:\n",
    "- 'Category' at index 1\n",
    "- 'Genres' at index 9\n",
    "\n",
    "For the Appstore:\n",
    "- 'prime_genre' at index 11\n",
    "\n",
    "Let's build two helper functions to analyze the frequency tables:\n",
    "\n",
    "- The first function will generate percentages for each frequency table\n",
    "- The second function will display precentages in descending order\n",
    "\n",
    "It is difficult to properly sort dictionaries as they have no set order. To work around this we'll use the sorted() function on a list of tuples representing each key-value pair in a given frequency table."
   ]
  },
  {
   "cell_type": "code",
   "execution_count": 25,
   "metadata": {},
   "outputs": [],
   "source": [
    "# helper function to retun a frequency table of percentages\n",
    "def freq_table(dataset, index, pct=False):\n",
    "    table = {}\n",
    "    # create frequency table\n",
    "    for row in dataset:\n",
    "        field = row[index]\n",
    "        if field not in table:\n",
    "            table[field] = 1\n",
    "        else:\n",
    "            table[field] += 1\n",
    "    \n",
    "    # turn values of each field into decimal percentages\n",
    "    if pct:\n",
    "        for key, val in table.items():\n",
    "            pct = (val/len(dataset))*100\n",
    "            table[key] = pct\n",
    "    \n",
    "    return table\n",
    "\n",
    "# function to sort a dictionary by integer value\n",
    "def display_table(dataset, index):\n",
    "    table = freq_table(dataset, index, True)\n",
    "    table_display = []\n",
    "    for key in table:\n",
    "        key_val_as_tuple = (table[key], key)\n",
    "        table_display.append(key_val_as_tuple)\n",
    "\n",
    "    table_sorted = sorted(table_display, reverse = True)\n",
    "    for entry in table_sorted:\n",
    "        print(entry[1], ':', entry[0])"
   ]
  },
  {
   "cell_type": "markdown",
   "metadata": {},
   "source": [
    "Let's display the frequency tables in percentages of the columns prime_genre (index 11), Genres (index 1), and Category (index 9).\n",
    "\n",
    "We'll start with the Applestore prime_genre frequency table:"
   ]
  },
  {
   "cell_type": "code",
   "execution_count": 26,
   "metadata": {
    "scrolled": true
   },
   "outputs": [
    {
     "name": "stdout",
     "output_type": "stream",
     "text": [
      "Descending percentage frequency table for 'prime_genre' column in free_appStore:\n",
      "Games : 58.25788323446769\n",
      "Entertainment : 7.836403371838902\n",
      "Photo & Video : 4.995316890415236\n",
      "Education : 3.6840462066812365\n",
      "Social Networking : 3.3093974399000934\n",
      "Shopping : 2.5913206369029034\n",
      "Utilities : 2.466437714642523\n",
      "Sports : 2.1542304089915705\n",
      "Music : 2.0605682172962845\n",
      "Health & Fitness : 2.0293474867311896\n",
      "Productivity : 1.7483609116453322\n",
      "Lifestyle : 1.5610365282547611\n",
      "News : 1.3424914142990947\n",
      "Travel : 1.248829222603809\n",
      "Finance : 1.0927255697783327\n",
      "Weather : 0.8741804558226661\n",
      "Food & Drink : 0.8117389946924758\n",
      "Reference : 0.5307524196066188\n",
      "Business : 0.5307524196066188\n",
      "Book : 0.3746487667811427\n",
      "Navigation : 0.18732438339057134\n",
      "Medical : 0.18732438339057134\n",
      "Catalogs : 0.1248829222603809\n"
     ]
    }
   ],
   "source": [
    "print(\"Descending percentage frequency table for 'prime_genre' column in free_appStore:\")\n",
    "display_table(free_appStore, 11)"
   ]
  },
  {
   "cell_type": "markdown",
   "metadata": {},
   "source": [
    "Let's now analyze these frequency tables. Be careful to not expand insights of a particular scope onto a wider scope. For example, if you find gaming apps the most common among free, English apps on Google Play, that does not mean that gaming apps are the most common on Google Play as a whole.\n",
    "\n",
    "The top 3 occuring genres in the 'prime_genre' column of the Appstore data set are:\n",
    "\n",
    "1. Games\n",
    "2. Entertainment\n",
    "3. Photo and Video\n",
    "\n",
    "Just eyeing the frequency table, we see that mobile games make up a whopping 58% of the Free, English apps on the Appstore. Most of the top occuring genres of apps in this scope are for Entertainment purposes- Games (#1), Entertainment (#2), Photo and Video (#3), Social Networking (#5), and Shopping (#6). The market is plentiful in entertainment apps rather than practical-use/productivity apps as most people with phone are typically on them for entertainment moreso than a tool, anyways.\n",
    "\n",
    "Making a recommendation for an app profile on the frequency table for genres alone is likely not enough analysis to work with. This table only tells us *how many* apps there are per genre and the percentage of the types of apps there are on the market, but it does not reflect how popular or well-received they are. \n",
    "\n",
    "However, it is vital insight for our validation strategy in developing new apps. This data implies that the market for gaming apps will be saturated, but are likely the most in demand and the easiest to develop and monetize.\n",
    "\n",
    "Let's take a look at the 'Category' and 'Genre' frequency tables of the Play Store dataset:"
   ]
  },
  {
   "cell_type": "code",
   "execution_count": 27,
   "metadata": {},
   "outputs": [
    {
     "name": "stdout",
     "output_type": "stream",
     "text": [
      "Descending percentage frequency table for 'Genres' column in free_playStore:\n",
      "FAMILY : 18.932971628800725\n",
      "GAME : 9.698202780603594\n",
      "TOOLS : 8.45484344975698\n",
      "BUSINESS : 4.600429524132474\n",
      "PRODUCTIVITY : 3.8996269922007465\n",
      "LIFESTYLE : 3.888323725556686\n",
      "FINANCE : 3.7074714592517237\n",
      "MEDICAL : 3.537922459590822\n",
      "SPORTS : 3.39097999321804\n",
      "PERSONALIZATION : 3.3231603933536795\n",
      "COMMUNICATION : 3.2327342602011986\n",
      "HEALTH_AND_FITNESS : 3.0857917938284163\n",
      "PHOTOGRAPHY : 2.950152594099695\n",
      "NEWS_AND_MAGAZINES : 2.803210127726913\n",
      "SOCIAL : 2.6675709279981916\n",
      "TRAVEL_AND_LOCAL : 2.3397761953204474\n",
      "SHOPPING : 2.2493500621679665\n",
      "BOOKS_AND_REFERENCE : 2.136317395727365\n",
      "DATING : 1.8650389962699219\n",
      "VIDEO_PLAYERS : 1.797219396405561\n",
      "MAPS_AND_NAVIGATION : 1.3903017972193965\n",
      "FOOD_AND_DRINK : 1.2433593308466147\n",
      "EDUCATION : 1.1642364643381937\n",
      "ENTERTAINMENT : 0.9607776647451114\n",
      "LIBRARIES_AND_DEMO : 0.938171131456991\n",
      "AUTO_AND_VEHICLES : 0.9268678648129309\n",
      "HOUSE_AND_HOME : 0.8025319317282694\n",
      "WEATHER : 0.7912286650842093\n",
      "EVENTS : 0.7121057985757884\n",
      "PARENTING : 0.6555894653554878\n",
      "ART_AND_DESIGN : 0.6442861987114276\n",
      "COMICS : 0.6103763987792472\n",
      "BEAUTY : 0.5990731321351871\n",
      "\n",
      "\n",
      "Descending percentage frequency table for 'Category' column in free_playStore:\n",
      "Tools : 8.44354018311292\n",
      "Entertainment : 6.081157454504352\n",
      "Education : 5.357748389284503\n",
      "Business : 4.600429524132474\n",
      "Productivity : 3.8996269922007465\n",
      "Lifestyle : 3.8770204589126256\n",
      "Finance : 3.7074714592517237\n",
      "Medical : 3.537922459590822\n",
      "Sports : 3.458799593082401\n",
      "Personalization : 3.3231603933536795\n",
      "Communication : 3.2327342602011986\n",
      "Action : 3.0970950604724763\n",
      "Health & Fitness : 3.0857917938284163\n",
      "Photography : 2.950152594099695\n",
      "News & Magazines : 2.803210127726913\n",
      "Social : 2.6675709279981916\n",
      "Travel & Local : 2.3284729286763874\n",
      "Shopping : 2.2493500621679665\n",
      "Books & Reference : 2.136317395727365\n",
      "Simulation : 2.045891262574884\n",
      "Dating : 1.8650389962699219\n",
      "Arcade : 1.8424324629818016\n",
      "Video Players & Editors : 1.7746128631174407\n",
      "Casual : 1.763309596473381\n",
      "Maps & Navigation : 1.3903017972193965\n",
      "Food & Drink : 1.2433593308466147\n",
      "Puzzle : 1.1303266644060133\n",
      "Racing : 0.9946874646772917\n",
      "Role Playing : 0.938171131456991\n",
      "Libraries & Demo : 0.938171131456991\n",
      "Auto & Vehicles : 0.9268678648129309\n",
      "Strategy : 0.9042613315248107\n",
      "House & Home : 0.8025319317282694\n",
      "Weather : 0.7912286650842093\n",
      "Events : 0.7121057985757884\n",
      "Adventure : 0.6668927319995479\n",
      "Comics : 0.5990731321351871\n",
      "Beauty : 0.5990731321351871\n",
      "Art & Design : 0.5990731321351871\n",
      "Parenting : 0.49734373233864587\n",
      "Card : 0.45213066576240535\n",
      "Trivia : 0.41822086583022494\n",
      "Casino : 0.41822086583022494\n",
      "Educational;Education : 0.39561433254210465\n",
      "Board : 0.38431106589804453\n",
      "Educational : 0.3730077992539844\n",
      "Education;Education : 0.339097999321804\n",
      "Word : 0.2599751328133831\n",
      "Casual;Pretend Play : 0.23736859952526282\n",
      "Music : 0.20345879959308238\n",
      "Racing;Action & Adventure : 0.169548999660902\n",
      "Puzzle;Brain Games : 0.169548999660902\n",
      "Entertainment;Music & Video : 0.169548999660902\n",
      "Casual;Brain Games : 0.1356391997287216\n",
      "Casual;Action & Adventure : 0.1356391997287216\n",
      "Arcade;Action & Adventure : 0.12433593308466147\n",
      "Action;Action & Adventure : 0.10172939979654119\n",
      "Educational;Pretend Play : 0.09042613315248108\n",
      "Simulation;Action & Adventure : 0.07912286650842093\n",
      "Parenting;Education : 0.07912286650842093\n",
      "Entertainment;Brain Games : 0.07912286650842093\n",
      "Board;Brain Games : 0.07912286650842093\n",
      "Parenting;Music & Video : 0.0678195998643608\n",
      "Educational;Brain Games : 0.0678195998643608\n",
      "Casual;Creativity : 0.0678195998643608\n",
      "Art & Design;Creativity : 0.0678195998643608\n",
      "Education;Pretend Play : 0.05651633322030067\n",
      "Role Playing;Pretend Play : 0.04521306657624054\n",
      "Education;Creativity : 0.04521306657624054\n",
      "Role Playing;Action & Adventure : 0.0339097999321804\n",
      "Puzzle;Action & Adventure : 0.0339097999321804\n",
      "Entertainment;Creativity : 0.0339097999321804\n",
      "Entertainment;Action & Adventure : 0.0339097999321804\n",
      "Educational;Creativity : 0.0339097999321804\n",
      "Educational;Action & Adventure : 0.0339097999321804\n",
      "Education;Music & Video : 0.0339097999321804\n",
      "Education;Brain Games : 0.0339097999321804\n",
      "Education;Action & Adventure : 0.0339097999321804\n",
      "Adventure;Action & Adventure : 0.0339097999321804\n",
      "Video Players & Editors;Music & Video : 0.02260653328812027\n",
      "Sports;Action & Adventure : 0.02260653328812027\n",
      "Simulation;Pretend Play : 0.02260653328812027\n",
      "Puzzle;Creativity : 0.02260653328812027\n",
      "Music;Music & Video : 0.02260653328812027\n",
      "Entertainment;Pretend Play : 0.02260653328812027\n",
      "Casual;Education : 0.02260653328812027\n",
      "Board;Action & Adventure : 0.02260653328812027\n",
      "Video Players & Editors;Creativity : 0.011303266644060134\n",
      "Trivia;Education : 0.011303266644060134\n",
      "Travel & Local;Action & Adventure : 0.011303266644060134\n",
      "Tools;Education : 0.011303266644060134\n",
      "Strategy;Education : 0.011303266644060134\n",
      "Strategy;Creativity : 0.011303266644060134\n",
      "Strategy;Action & Adventure : 0.011303266644060134\n",
      "Simulation;Education : 0.011303266644060134\n",
      "Role Playing;Brain Games : 0.011303266644060134\n",
      "Racing;Pretend Play : 0.011303266644060134\n",
      "Puzzle;Education : 0.011303266644060134\n",
      "Parenting;Brain Games : 0.011303266644060134\n",
      "Music & Audio;Music & Video : 0.011303266644060134\n",
      "Lifestyle;Pretend Play : 0.011303266644060134\n",
      "Lifestyle;Education : 0.011303266644060134\n",
      "Health & Fitness;Education : 0.011303266644060134\n",
      "Health & Fitness;Action & Adventure : 0.011303266644060134\n",
      "Entertainment;Education : 0.011303266644060134\n",
      "Communication;Creativity : 0.011303266644060134\n",
      "Comics;Creativity : 0.011303266644060134\n",
      "Casual;Music & Video : 0.011303266644060134\n",
      "Card;Action & Adventure : 0.011303266644060134\n",
      "Books & Reference;Education : 0.011303266644060134\n",
      "Art & Design;Pretend Play : 0.011303266644060134\n",
      "Art & Design;Action & Adventure : 0.011303266644060134\n",
      "Arcade;Pretend Play : 0.011303266644060134\n",
      "Adventure;Education : 0.011303266644060134\n"
     ]
    }
   ],
   "source": [
    "print(\"Descending percentage frequency table for 'Genres' column in free_playStore:\")\n",
    "display_table(free_playStore, 1)\n",
    "print('\\n')\n",
    "print(\"Descending percentage frequency table for 'Category' column in free_playStore:\")\n",
    "display_table(free_playStore, 9)"
   ]
  },
  {
   "cell_type": "markdown",
   "metadata": {},
   "source": [
    "Surprisingly, the 'Genres' and 'Category' frequency tables paint a different picture for the Play Store than the 'prime_genre' does for the Appstore. The rankings of genres in the Genre frequency table are:\n",
    "\n",
    "1. Family (18.9%)\n",
    "2. Game (9.7%)\n",
    "3. Tools (8.45%)\n",
    "4. Business (4.6%)\n",
    "5. Productivity (3.9%)\n",
    "\n",
    "Rankings of categories in the Category frequency table:\n",
    "\n",
    "1. Tools (8.4%)\n",
    "2. Entertainment (6.1%)\n",
    "3. Education (5.4%)\n",
    "4. Business (4.6%)\n",
    "5. Productivity (3.9%)\n",
    "\n",
    "Practical-use/productivity apps are more abundant than entertainment apps among Free, English apps on the Play Store. There is a slight exception with 'Family' and 'Game' genres in the Genre frequency table (28.6% combined), however, it does not dominate the market as much as games alone did in the Appstore (58%).\n",
    "\n",
    "This could be because Androids are typically more open-source than Apple is so app development is more accessible. Additionaly, many electronics projects including CPU's use Androids as cheap CPU's with computer capabilities. Unlike Apple, Android is not a brand but an Operating System that is used with numerous brands of devices whereas the Apple OS is exclusive to a small line of Apple products.\n",
    "\n",
    "However, this data is not enough to curate a profile for profitable apps just yet. Still similar to the 'prime_genre' frequency table for the Applestore, thees frequency tables lack insight on apps' popularity and feedback from users, which are both essential to the validation process.\n",
    "\n",
    "The 'Category' frequency table is more granulated as it includes multi-category apps, which would be difficult and confusing to perform analysis. Let's use the 'Genres' column to perform analysis on the Play Store and the 'prime_genre' column for the Appstore.\n",
    "\n",
    "We have now deduced that the Appstore is dominated by entertainment apps while the Play Store has a good balance of both productivity and entertainment apps. Though we have a picture of the marketplace, we will want to figure out which genres are the most popular. We'll do this by analyzing the 'Installs' column of the Play Store and the 'rating_count_tot' column of the Appstore.\n",
    "\n",
    "Let's start with the Appstore."
   ]
  },
  {
   "cell_type": "code",
   "execution_count": 28,
   "metadata": {},
   "outputs": [
    {
     "name": "stdout",
     "output_type": "stream",
     "text": [
      "Average user ratings per genre in Appstore:\n",
      "Social Networking, (106 apps): 71548.34905660378\n",
      "Photo & Video, (160 apps): 28441.54375\n",
      "Games, (1866 apps): 22886.36709539121\n",
      "Music, (66 apps): 57326.530303030304\n",
      "Reference, (17 apps): 79350.4705882353\n",
      "Health & Fitness, (65 apps): 23298.015384615384\n",
      "Weather, (28 apps): 52279.892857142855\n",
      "Utilities, (79 apps): 19156.493670886077\n",
      "Travel, (40 apps): 28243.8\n",
      "Shopping, (83 apps): 27230.734939759037\n",
      "News, (43 apps): 21248.023255813954\n",
      "Navigation, (6 apps): 86090.33333333333\n",
      "Lifestyle, (50 apps): 16815.48\n",
      "Entertainment, (251 apps): 14195.358565737051\n",
      "Food & Drink, (26 apps): 33333.92307692308\n",
      "Sports, (69 apps): 23008.898550724636\n",
      "Book, (12 apps): 46384.916666666664\n",
      "Finance, (35 apps): 32367.02857142857\n",
      "Education, (118 apps): 7003.983050847458\n",
      "Productivity, (56 apps): 21028.410714285714\n",
      "Business, (17 apps): 7491.117647058823\n",
      "Catalogs, (4 apps): 4004.0\n",
      "Medical, (6 apps): 612.0\n"
     ]
    }
   ],
   "source": [
    "prime_genre = freq_table(free_appStore, 11)\n",
    "\n",
    "print('Average user ratings per genre in Appstore:')\n",
    "\n",
    "for genre, val in prime_genre.items():\n",
    "    total = 0\n",
    "    len_genre = 0\n",
    "    for row in free_appStore:\n",
    "        genre_app = row[11]\n",
    "        if genre == genre_app:\n",
    "            total_rat = float(row[5])\n",
    "            total += total_rat\n",
    "            len_genre += 1\n",
    "    avg_rat = total / len_genre\n",
    "    temp = '{0}, ({1} apps): {2}'.format(genre, len_genre, avg_rat)\n",
    "    print(temp)\n",
    "        "
   ]
  },
  {
   "cell_type": "markdown",
   "metadata": {},
   "source": [
    "The top 4 genres by number of user ratings are Navigation, Reference, Social Networking, and Music. By a glance, it seems like our company could maximize its userbase by developing a Navigation or Reference app as they have the highest avg. ratings per app, but the genres are dominated by a mere 6 and 17 apps, respectively. Let's take a look at a few of the top apps per genre by their number of ratings."
   ]
  },
  {
   "cell_type": "code",
   "execution_count": 29,
   "metadata": {},
   "outputs": [
    {
     "name": "stdout",
     "output_type": "stream",
     "text": [
      "Items: 6, rating_count_tot value total: 516,542.0\n",
      "Navigation Apps:\n",
      " {'Waze - GPS Navigation, Maps & Real-time Traffic': 66.8, 'Google Maps - Navigation & Transit': 29.99, 'Geocaching®': 2.48, 'CoPilot GPS – Car Navigation & Offline Maps': 0.69, 'ImmobilienScout24: Real Estate Search in Germany': 0.04, 'Railway Route Search': 0.0} \n",
      "\n",
      "Items: 17, rating_count_tot value total: 1,348,958.0\n",
      "Reference Apps:\n",
      " {'Bible': 73.09, 'Dictionary.com Dictionary & Thesaurus': 14.83, 'Dictionary.com Dictionary & Thesaurus for iPad': 4.02, 'Google Translate': 1.99, 'Muslim Pro: Ramadan 2017 Prayer Times, Azan, Quran': 1.37, 'New Furniture Mods - Pocket Wiki & Game Tools for Minecraft PC Edition': 1.3, 'Merriam-Webster Dictionary': 1.25, 'Night Sky': 0.9, 'City Maps for Minecraft PE - The Best Maps for Minecraft Pocket Edition (MCPE)': 0.63, 'LUCKY BLOCK MOD ™ for Minecraft PC Edition - The Best Pocket Wiki & Mods Installer Tools': 0.35, 'GUNS MODS for Minecraft PC Edition - Mods Tools': 0.11, 'Guides for Pokémon GO - Pokemon GO News and Cheats': 0.06, 'WWDC': 0.06, 'Horror Maps for Minecraft PE - Download The Scariest Maps for Minecraft Pocket Edition (MCPE) Free': 0.05, 'VPN Express': 0.0, 'Real Bike Traffic Rider Virtual Reality Glasses': 0.0, 'Jishokun-Japanese English Dictionary & Translator': 0.0} \n",
      "\n",
      "Items: 106, rating_count_tot value total: 7,584,125.0\n",
      "Social Networking Apps:\n",
      " {'Facebook': 39.22, 'Pinterest': 14.0, 'Skype for iPhone': 4.93, 'Messenger': 4.63, 'Tumblr': 4.41, 'WhatsApp Messenger': 3.79, 'Kik': 3.44, 'ooVoo – Free Video Call, Text and Voice': 2.34, 'TextNow - Unlimited Text + Calls': 2.18, 'Viber Messenger – Text & Call': 2.17, 'Followers - Social Analytics For Instagram': 1.49, 'MeetMe - Chat and Meet New People': 1.28, 'We Heart It - Fashion, wallpapers, quotes, tattoos': 1.19, 'InsTrack for Instagram - Analytics Plus More': 1.13, 'Tango - Free Video Call, Voice and Chat': 0.99, 'LinkedIn': 0.95, 'Match™ - #1 Dating App.': 0.8, 'Skype for iPad': 0.79, 'POF - Best Dating App for Conversations': 0.69, 'Timehop': 0.65, 'Find My Family, Friends & iPhone - Life360 Locator': 0.58, 'Whisper - Share, Express, Meet': 0.53, 'Hangouts': 0.48, 'LINE PLAY - Your Avatar World': 0.46, 'WeChat': 0.46, 'Badoo - Meet New People, Chat, Socialize.': 0.45, 'Followers + for Instagram - Follower Analytics': 0.38, 'GroupMe': 0.37, 'Marco Polo Video Walkie Talkie': 0.36, 'Miitomo': 0.32, 'SimSimi': 0.31, 'Grindr - Gay and same sex guys chat, meet and date': 0.31, 'Wishbone - Compare Anything': 0.27, 'imo video calls and chat': 0.25, 'After School - Funny Anonymous School News': 0.24, 'Quick Reposter - Repost, Regram and Reshare Photos': 0.23, 'Weibo HD': 0.22, 'Repost for Instagram': 0.2, 'Live.me – Live Video Chat & Make Friends Nearby': 0.19, 'Nextdoor': 0.19, 'Followers Analytics for Instagram - InstaReport': 0.18, 'YouNow: Live Stream Video Chat': 0.16, 'FollowMeter for Instagram - Followers Tracking': 0.16, 'LINE': 0.15, 'eHarmony™ Dating App - Meet Singles': 0.15, 'Discord - Chat for Gamers': 0.12, 'QQ': 0.12, 'Telegram Messenger': 0.1, 'Weibo': 0.1, 'Periscope - Live Video Streaming Around the World': 0.08, 'Chat for Whatsapp - iPad Version': 0.07, 'QQ HD': 0.07, 'Followers Analysis Tool For Instagram App Free': 0.06, 'live.ly - live video streaming': 0.05, 'Houseparty - Group Video Chat': 0.05, 'SOMA Messenger': 0.04, 'Monkey': 0.04, 'Down To Lunch': 0.03, 'Flinch - Video Chat Staring Contest': 0.03, 'Highrise - Your Avatar Community': 0.03, 'LOVOO - Dating Chat': 0.03, 'PlayStation®Messages': 0.03, 'BOO! - Video chat camera with filters & stickers': 0.02, 'Qzone': 0.02, 'Chatous - Chat with new people': 0.02, 'Kiwi - Q&A': 0.02, 'GhostCodes - a discovery app for Snapchat': 0.02, 'Jodel': 0.02, 'FireChat': 0.01, 'Google Duo - simple video calling': 0.01, 'Fiesta by Tango - Chat & Meet New People': 0.01, 'Google Allo — smart messaging': 0.01, 'Peach — share vividly': 0.01, 'Hey! VINA - Where Women Meet New Friends': 0.01, 'Battlefield™ Companion': 0.01, 'All Devices for WhatsApp - Messenger for iPad': 0.01, 'Chat for Pokemon Go - GoChat': 0.01, 'IAmNaughty – Dating App to Meet New People Online': 0.01, 'Qzone HD': 0.01, 'Zenly - Locate your friends in realtime': 0.01, 'League of Legends Friends': 0.01, '豆瓣': 0.01, 'Candid - Speak Your Mind Freely': 0.01, '知乎': 0.01, 'Selfeo': 0.0, 'Fake-A-Location Free ™': 0.0, 'Popcorn Buzz - Free Group Calls': 0.0, 'Fam — Group video calling for iMessage': 0.0, 'QQ International': 0.0, 'Ameba': 0.0, 'SoundCloud Pulse: for creators': 0.0, 'Tantan': 0.0, 'Cougar Dating & Life Style App for Mature Women': 0.0, 'Rawr Messenger - Dab your chat': 0.0, 'WhenToPost: Best Time to Post Photos for Instagram': 0.0, 'Inke—Broadcast an amazing life': 0.0, 'Mustknow - anonymous video Q&A': 0.0, 'CTFxCmoji': 0.0, 'Lobi': 0.0, 'Chain: Collaborate On MyVideo Story/Group Video': 0.0, 'botman - Real time video chat': 0.0, 'BestieBox': 0.0, 'MATCH ON LINE chat': 0.0, 'niconico ch': 0.0, 'LINE BLOG': 0.0, 'bit-tube - Live Stream Video Chat': 0.0} \n",
      "\n",
      "Items: 66, rating_count_tot value total: 3,783,551.0\n",
      "Music Apps:\n",
      " {'Pandora - Music & Radio': 29.78, 'Spotify Music': 23.22, 'Shazam - Discover music, artists, videos & lyrics': 10.65, 'iHeartRadio – Free Music & Radio Stations': 7.75, 'SoundCloud - Music & Audio': 3.59, 'Magic Piano by Smule': 3.48, 'Smule Sing!': 3.15, 'TuneIn Radio - MLB NBA Audiobooks Podcasts Music': 2.92, 'Amazon Music': 2.81, 'SoundHound Song Search & Music Player': 2.18, 'Sonos Controller': 1.29, 'Bandsintown Concerts': 0.82, 'Karaoke - Sing Karaoke, Unlimited Songs!': 0.76, 'My Mixtapez Music': 0.69, 'Sing Karaoke Songs Unlimited with StarMaker': 0.69, 'Ringtones for iPhone & Ringtone Maker': 0.67, 'Musi - Unlimited Music For YouTube': 0.67, 'AutoRap by Smule': 0.48, 'Spinrilla - Mixtapes For Free': 0.4, 'Napster - Top Music & Radio': 0.38, 'edjing Mix:DJ turntable to remix and scratch music': 0.36, 'Free Music - MP3 Streamer & Playlist Manager Pro': 0.36, 'Free Piano app by Yokee': 0.34, 'Google Play Music': 0.27, 'Certified Mixtapes - Hip Hop Albums & Mixtapes': 0.26, 'TIDAL': 0.2, 'YouTube Music': 0.19, 'Nicki Minaj: The Empire': 0.14, 'Sounds app - Music And Friends': 0.14, 'SongFlip - Free Music Streamer': 0.13, 'Simple Radio - Live AM & FM Radio Stations': 0.13, 'Deezer - Listen to your Favorite Music & Playlists': 0.12, 'Ringtones for iPhone with Ringtone Maker': 0.11, 'Bose SoundTouch': 0.1, 'Amazon Alexa': 0.08, 'DatPiff': 0.07, 'Trebel Music - Unlimited Music Downloader': 0.07, 'Free Music Play - Mp3 Streamer & Player': 0.07, 'Acapella from PicPlayPost': 0.07, 'Coach Guitar - Lessons & Easy Tabs For Beginners': 0.06, 'Musicloud - MP3 and FLAC Music Player for Cloud Platforms.': 0.06, 'Piano - Play Keyboard Music Games with Magic Tiles': 0.04, 'Boom: Best Equalizer & Magical Surround Sound': 0.04, 'Music Freedom - Unlimited Free MP3 Music Streaming': 0.03, 'AmpMe - A Portable Social Party Music Speaker': 0.03, 'Medly - Music Maker': 0.02, 'Bose Connect': 0.02, 'Music Memos': 0.02, 'UE BOOM': 0.02, 'LiveMixtapes': 0.01, 'NOISE': 0.01, 'MP3 Music Player & Streamer for Clouds': 0.01, 'Musical Video Maker - Create Music clips lip sync': 0.01, 'Cloud Music Player - Downloader & Playlist Manager': 0.01, 'Remixlive - Remix loops with pads': 0.01, 'QQ音乐HD': 0.01, 'Blocs Wave - Make & Record Music': 0.0, 'PlayGround • Music At Your Fingertips': 0.0, 'Music and Chill': 0.0, 'The Singing Machine Mobile Karaoke App': 0.0, 'radio.de - Der Radioplayer': 0.0, 'Free Music -  Player & Streamer  for Dropbox, OneDrive & Google Drive': 0.0, 'NRJ Radio': 0.0, 'Smart Music: Streaming Videos and Radio': 0.0, 'BOSS Tuner': 0.0, 'PetitLyrics': 0.0}\n"
     ]
    }
   ],
   "source": [
    "def select(ds, ds_header, name_index, sel_index, sel_val, value_index, pct=False, showShape=True, ex=[], ex_index=0):\n",
    "    ft = {}\n",
    "    for row in ds:\n",
    "        exVal = row[ex_index]\n",
    "        if row[sel_index] == sel_val and exVal not in ex:\n",
    "            ft[row[name_index]] = float(row[value_index])\n",
    "    totalVal = 0\n",
    "    for val in ft.values():\n",
    "        totalVal += val\n",
    "    if pct:\n",
    "        for key, val in ft.items():\n",
    "            ft[key] = round(val/totalVal * 100, 2)\n",
    "    if showShape:\n",
    "        temp = 'Items: {0}, {1} value total: {2:,}'.format(len(ft), ds_header[value_index], totalVal)\n",
    "        print(temp)\n",
    "    return ft\n",
    "            \n",
    "print(\"Navigation Apps:\\n\", select(free_appStore, appStore_header, 1, 11, 'Navigation', 5, True),'\\n')\n",
    "print(\"Reference Apps:\\n\", select(free_appStore, appStore_header, 1, 11, 'Reference', 5, True),'\\n')\n",
    "print(\"Social Networking Apps:\\n\", select(free_appStore, appStore_header, 1, 11, 'Social Networking', 5, True),'\\n')\n",
    "print(\"Music Apps:\\n\", select(free_appStore, appStore_header, 1, 11, 'Music', 5, True))"
   ]
  },
  {
   "cell_type": "markdown",
   "metadata": {},
   "source": [
    "Printed above are apps grouped by genre and their % of the total number of reviews for their genre. To come up with an app profile recommendation, we must consider the expected userbase and the nature of the app beign developed. \n",
    "\n",
    "In the Navigation market, 96.79% of the 500k+ reviews in the genre belong to just Waze and Google maps, with seldom reviews for the rest. Furthermore, it would be difficult to develop and compete against such popular and reputable apps when users only need one go-to navigation app. Not only do navigation apps require real-time updates, traffic and geographic data but there is little merit in developing another navigation app if reputable ones like Apple Maps and Google Maps suffice. Perhaps a unique functionality of the app would offer something different and would provide a reason to download.\n",
    "\n",
    "In the Social Networking market, 71% of the 7.6 million reviews are distributed a bit more evenly across 8 popular apps, though 2.2 million reviews are still comprised of smaller, more niche apps. The nature of Social Media apps are that they connect to pre-existing popular platforms with a loaded databse- such as apps that connect to Facebook, Instagram, Playstation, etc- that make-up a large amount of the reviews/userbase. However, some potential exists in niche analysis and utility apps such as \"Followers + for Instagram - Follower Analytics\" and \"Quick Reposter - Repost, Regram and Reshare Photos\" with successful apps as each type of app received around 7k-75k reviews. Dating apps also receive as much as 70k reviews per popular app so there is potential in developing a platform targeted for an underrepresented community.\n",
    "\n",
    "In the Music market, 74.8% of the 3.8 million reviews belong to 5 of the most popular streaming apps leaving ~1 million reviews among smaller music apps. There is some potential in music utility apps such as video to audio, playlist makers, ringtones, apps with target audiences in niche communities such as NBA podcasts, or entertainment music apps like karoake. It would be difficult to develop and compete against popular pre-existing streaming apps like Spotify, Pandora, and Soundcloud as there is little merit in using an app with a smaller userbase. \n",
    "\n",
    "In the Reference market, the Bible app alone consists of 73% of the 1.3 million reviews, leaving 350k reviews among other apps. There is potential in wiki/guide apps dedicated to niche topics/communities such as Minecraft and Pokemon GO that receive from thousands to tens of thousands in reviews per app.\n",
    "\n",
    "Let's find the average amount of reviews in each genre excluding the biggest apps of each genre for a better estimate of our userbase if we were to make Social Networking, Music, or Reference apps (it's impractical to develop in Navigation as the market is heavily dominated and the type of app is expensive and difficult to develop)."
   ]
  },
  {
   "cell_type": "code",
   "execution_count": 31,
   "metadata": {},
   "outputs": [
    {
     "name": "stdout",
     "output_type": "stream",
     "text": [
      "Reviews per Social Networking app (no major apps):\n",
      " {'TextNow - Unlimited Text + Calls': 164963.0, 'Viber Messenger – Text & Call': 164249.0, 'Followers - Social Analytics For Instagram': 112778.0, 'MeetMe - Chat and Meet New People': 97072.0, 'We Heart It - Fashion, wallpapers, quotes, tattoos': 90414.0, 'InsTrack for Instagram - Analytics Plus More': 85535.0, 'Tango - Free Video Call, Voice and Chat': 75412.0, 'LinkedIn': 71856.0, 'Match™ - #1 Dating App.': 60659.0, 'Skype for iPad': 60163.0, 'POF - Best Dating App for Conversations': 52642.0, 'Timehop': 49510.0, 'Find My Family, Friends & iPhone - Life360 Locator': 43877.0, 'Whisper - Share, Express, Meet': 39819.0, 'Hangouts': 36404.0, 'LINE PLAY - Your Avatar World': 34677.0, 'WeChat': 34584.0, 'Badoo - Meet New People, Chat, Socialize.': 34428.0, 'Followers + for Instagram - Follower Analytics': 28633.0, 'GroupMe': 28260.0, 'Marco Polo Video Walkie Talkie': 27662.0, 'Miitomo': 23965.0, 'SimSimi': 23530.0, 'Grindr - Gay and same sex guys chat, meet and date': 23201.0, 'Wishbone - Compare Anything': 20649.0, 'imo video calls and chat': 18841.0, 'After School - Funny Anonymous School News': 18482.0, 'Quick Reposter - Repost, Regram and Reshare Photos': 17694.0, 'Weibo HD': 16772.0, 'Repost for Instagram': 15185.0, 'Live.me – Live Video Chat & Make Friends Nearby': 14724.0, 'Nextdoor': 14402.0, 'Followers Analytics for Instagram - InstaReport': 13914.0, 'YouNow: Live Stream Video Chat': 12079.0, 'FollowMeter for Instagram - Followers Tracking': 11976.0, 'LINE': 11437.0, 'eHarmony™ Dating App - Meet Singles': 11124.0, 'Discord - Chat for Gamers': 9152.0, 'QQ': 9109.0, 'Telegram Messenger': 7573.0, 'Weibo': 7265.0, 'Periscope - Live Video Streaming Around the World': 6062.0, 'Chat for Whatsapp - iPad Version': 5060.0, 'QQ HD': 5058.0, 'Followers Analysis Tool For Instagram App Free': 4253.0, 'live.ly - live video streaming': 4145.0, 'Houseparty - Group Video Chat': 3991.0, 'SOMA Messenger': 3232.0, 'Monkey': 3060.0, 'Down To Lunch': 2535.0, 'Flinch - Video Chat Staring Contest': 2134.0, 'Highrise - Your Avatar Community': 2011.0, 'LOVOO - Dating Chat': 1985.0, 'PlayStation®Messages': 1918.0, 'BOO! - Video chat camera with filters & stickers': 1805.0, 'Qzone': 1649.0, 'Chatous - Chat with new people': 1609.0, 'Kiwi - Q&A': 1538.0, 'GhostCodes - a discovery app for Snapchat': 1313.0, 'Jodel': 1193.0, 'FireChat': 1037.0, 'Google Duo - simple video calling': 1033.0, 'Fiesta by Tango - Chat & Meet New People': 885.0, 'Google Allo — smart messaging': 862.0, 'Peach — share vividly': 727.0, 'Hey! VINA - Where Women Meet New Friends': 719.0, 'Battlefield™ Companion': 689.0, 'All Devices for WhatsApp - Messenger for iPad': 682.0, 'Chat for Pokemon Go - GoChat': 500.0, 'IAmNaughty – Dating App to Meet New People Online': 463.0, 'Qzone HD': 458.0, 'Zenly - Locate your friends in realtime': 427.0, 'League of Legends Friends': 420.0, '豆瓣': 407.0, 'Candid - Speak Your Mind Freely': 398.0, '知乎': 397.0, 'Selfeo': 366.0, 'Fake-A-Location Free ™': 354.0, 'Popcorn Buzz - Free Group Calls': 281.0, 'Fam — Group video calling for iMessage': 279.0, 'QQ International': 274.0, 'Ameba': 269.0, 'SoundCloud Pulse: for creators': 240.0, 'Tantan': 235.0, 'Cougar Dating & Life Style App for Mature Women': 213.0, 'Rawr Messenger - Dab your chat': 180.0, 'WhenToPost: Best Time to Post Photos for Instagram': 158.0, 'Inke—Broadcast an amazing life': 147.0, 'Mustknow - anonymous video Q&A': 53.0, 'CTFxCmoji': 39.0, 'Lobi': 36.0, 'Chain: Collaborate On MyVideo Story/Group Video': 35.0, 'botman - Real time video chat': 7.0, 'BestieBox': 0.0, 'MATCH ON LINE chat': 0.0, 'niconico ch': 0.0, 'LINE BLOG': 0.0, 'bit-tube - Live Stream Video Chat': 0.0} \n",
      "\n",
      "Reviews per Reference app (no major apps):\n",
      " {'Dictionary.com Dictionary & Thesaurus for iPad': 54175.0, 'Google Translate': 26786.0, 'Muslim Pro: Ramadan 2017 Prayer Times, Azan, Quran': 18418.0, 'New Furniture Mods - Pocket Wiki & Game Tools for Minecraft PC Edition': 17588.0, 'Merriam-Webster Dictionary': 16849.0, 'Night Sky': 12122.0, 'City Maps for Minecraft PE - The Best Maps for Minecraft Pocket Edition (MCPE)': 8535.0, 'LUCKY BLOCK MOD ™ for Minecraft PC Edition - The Best Pocket Wiki & Mods Installer Tools': 4693.0, 'GUNS MODS for Minecraft PC Edition - Mods Tools': 1497.0, 'Guides for Pokémon GO - Pokemon GO News and Cheats': 826.0, 'WWDC': 762.0, 'Horror Maps for Minecraft PE - Download The Scariest Maps for Minecraft Pocket Edition (MCPE) Free': 718.0, 'VPN Express': 14.0, 'Real Bike Traffic Rider Virtual Reality Glasses': 8.0, 'Jishokun-Japanese English Dictionary & Translator': 0.0} \n",
      "\n",
      "Reviews per Music app (no major apps):\n",
      " {'Magic Piano by Smule': 131695.0, 'Smule Sing!': 119316.0, 'TuneIn Radio - MLB NBA Audiobooks Podcasts Music': 110420.0, 'Amazon Music': 106235.0, 'SoundHound Song Search & Music Player': 82602.0, 'Sonos Controller': 48905.0, 'Bandsintown Concerts': 30845.0, 'Karaoke - Sing Karaoke, Unlimited Songs!': 28606.0, 'My Mixtapez Music': 26286.0, 'Sing Karaoke Songs Unlimited with StarMaker': 26227.0, 'Ringtones for iPhone & Ringtone Maker': 25403.0, 'Musi - Unlimited Music For YouTube': 25193.0, 'AutoRap by Smule': 18202.0, 'Spinrilla - Mixtapes For Free': 15053.0, 'Napster - Top Music & Radio': 14268.0, 'edjing Mix:DJ turntable to remix and scratch music': 13580.0, 'Free Music - MP3 Streamer & Playlist Manager Pro': 13443.0, 'Free Piano app by Yokee': 13016.0, 'Google Play Music': 10118.0, 'Certified Mixtapes - Hip Hop Albums & Mixtapes': 9975.0, 'TIDAL': 7398.0, 'YouTube Music': 7109.0, 'Nicki Minaj: The Empire': 5196.0, 'Sounds app - Music And Friends': 5126.0, 'SongFlip - Free Music Streamer': 5004.0, 'Simple Radio - Live AM & FM Radio Stations': 4787.0, 'Deezer - Listen to your Favorite Music & Playlists': 4677.0, 'Ringtones for iPhone with Ringtone Maker': 4013.0, 'Bose SoundTouch': 3687.0, 'Amazon Alexa': 3018.0, 'DatPiff': 2815.0, 'Trebel Music - Unlimited Music Downloader': 2570.0, 'Free Music Play - Mp3 Streamer & Player': 2496.0, 'Acapella from PicPlayPost': 2487.0, 'Coach Guitar - Lessons & Easy Tabs For Beginners': 2416.0, 'Musicloud - MP3 and FLAC Music Player for Cloud Platforms.': 2211.0, 'Piano - Play Keyboard Music Games with Magic Tiles': 1636.0, 'Boom: Best Equalizer & Magical Surround Sound': 1375.0, 'Music Freedom - Unlimited Free MP3 Music Streaming': 1246.0, 'AmpMe - A Portable Social Party Music Speaker': 1047.0, 'Medly - Music Maker': 933.0, 'Bose Connect': 915.0, 'Music Memos': 909.0, 'UE BOOM': 612.0, 'LiveMixtapes': 555.0, 'NOISE': 355.0, 'MP3 Music Player & Streamer for Clouds': 329.0, 'Musical Video Maker - Create Music clips lip sync': 320.0, 'Cloud Music Player - Downloader & Playlist Manager': 319.0, 'Remixlive - Remix loops with pads': 288.0, 'QQ音乐HD': 224.0, 'Blocs Wave - Make & Record Music': 158.0, 'PlayGround • Music At Your Fingertips': 150.0, 'Music and Chill': 135.0, 'The Singing Machine Mobile Karaoke App': 130.0, 'radio.de - Der Radioplayer': 64.0, 'Free Music -  Player & Streamer  for Dropbox, OneDrive & Google Drive': 46.0, 'NRJ Radio': 38.0, 'Smart Music: Streaming Videos and Radio': 17.0, 'BOSS Tuner': 13.0, 'PetitLyrics': 0.0}\n",
      "\n",
      "\n",
      "Average amount of reviews per non-dominant Social Networking app: 17984.61\n",
      "Average amount of reviews per non-dominant Reference app: 10866.07\n",
      "Average amount of reviews per non-dominant Music app: 15511.67\n"
     ]
    }
   ],
   "source": [
    "appStore_SN_ex = select(free_appStore, appStore_header, 1, 11, 'Social Networking', 5, ex_index=1, ex=['Facebook','Pinterest','Skype for iPhone','Messenger','Tumblr','WhatsApp Messenger','Kik','ooVoo – Free Video Call, Text and Voice'], showShape=False)\n",
    "appStore_R_ex = select(free_appStore, appStore_header, 1, 11, 'Reference', 5, ex_index=1, ex=['Bible', 'Dictionary.com Dictionary & Thesaurus'], showShape=False)\n",
    "appStore_M_ex = select(free_appStore, appStore_header, 1, 11, 'Music', 5, ex_index=1, ex=['Pandora - Music & Radio','Spotify Music','Shazam - Discover music, artists, videos & lyrics','iHeartRadio – Free Music & Radio Stations', 'SoundCloud - Music & Audio'], showShape=False)\n",
    "print('Reviews per Social Networking app (no major apps):\\n', appStore_SN_ex,'\\n')\n",
    "print('Reviews per Reference app (no major apps):\\n', appStore_R_ex,'\\n')\n",
    "print('Reviews per Music app (no major apps):\\n', appStore_M_ex)\n",
    "print('\\n')\n",
    "\n",
    "total = 0\n",
    "for key, val in appStore_SN_ex.items():\n",
    "    total += val\n",
    "print('Average amount of reviews per non-dominant Social Networking app:', round(total/len(appStore_SN_ex),2))\n",
    "\n",
    "total = 0\n",
    "for key, val in appStore_R_ex.items():\n",
    "    total += val\n",
    "print('Average amount of reviews per non-dominant Reference app:', round(total/len(appStore_R_ex),2))\n",
    "\n",
    "total = 0\n",
    "for key, val in appStore_M_ex.items():\n",
    "    total += val\n",
    "print('Average amount of reviews per non-dominant Music app:', round(total/len(appStore_M_ex),2))"
   ]
  },
  {
   "cell_type": "markdown",
   "metadata": {},
   "source": [
    "Taking the above into consideration, a potential App Profile Recommendation for the Appstore would be a Social Networking-type app that could be a dating app that provides a platform for an underrepresented but trending community.\n",
    "\n",
    "The average amount of reviews per non-dominant, Free, English, Social-Networking app in the Appstore is 17,985 reviews. If our Social-Networking app is successful, we can expect it to reach quite a few users.\n",
    "\n",
    "Let's group the Play Store's apps by genre and analyze its n_installs column to identify the most installed genre of apps."
   ]
  },
  {
   "cell_type": "code",
   "execution_count": null,
   "metadata": {},
   "outputs": [],
   "source": []
  }
 ],
 "metadata": {
  "kernelspec": {
   "display_name": "Python 3",
   "language": "python",
   "name": "python3"
  },
  "language_info": {
   "codemirror_mode": {
    "name": "ipython",
    "version": 3
   },
   "file_extension": ".py",
   "mimetype": "text/x-python",
   "name": "python",
   "nbconvert_exporter": "python",
   "pygments_lexer": "ipython3",
   "version": "3.8.2"
  }
 },
 "nbformat": 4,
 "nbformat_minor": 2
}
